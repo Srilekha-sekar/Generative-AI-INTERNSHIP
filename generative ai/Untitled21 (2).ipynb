{
  "nbformat": 4,
  "nbformat_minor": 0,
  "metadata": {
    "colab": {
      "provenance": []
    },
    "kernelspec": {
      "name": "python3",
      "display_name": "Python 3"
    },
    "language_info": {
      "name": "python"
    }
  },
  "cells": [
    {
      "cell_type": "code",
      "execution_count": 15,
      "metadata": {
        "colab": {
          "base_uri": "https://localhost:8080/"
        },
        "id": "BXVYZ7hdHlKs",
        "outputId": "53849b65-cd57-4e47-cb3b-1d74cc2d8db5"
      },
      "outputs": [
        {
          "output_type": "stream",
          "name": "stderr",
          "text": [
            "/usr/local/lib/python3.10/dist-packages/torch/nn/modules/loss.py:536: UserWarning: Using a target size (torch.Size([100])) that is different to the input size (torch.Size([100, 1])). This will likely lead to incorrect results due to broadcasting. Please ensure they have the same size.\n",
            "  return F.mse_loss(input, target, reduction=self.reduction)\n"
          ]
        },
        {
          "output_type": "stream",
          "name": "stdout",
          "text": [
            "Epoch [100/1000], Loss: 1.0164\n",
            "Epoch [200/1000], Loss: 0.9863\n",
            "Epoch [300/1000], Loss: 0.9731\n",
            "Epoch [400/1000], Loss: 0.9677\n",
            "Epoch [500/1000], Loss: 0.9655\n",
            "Epoch [600/1000], Loss: 0.9646\n",
            "Epoch [700/1000], Loss: 0.9643\n",
            "Epoch [800/1000], Loss: 0.9642\n",
            "Epoch [900/1000], Loss: 0.9641\n",
            "Epoch [1000/1000], Loss: 0.9641\n"
          ]
        }
      ],
      "source": [
        "import torch\n",
        "import torch.nn as nn\n",
        "import torch.optim as optim\n",
        "import numpy as np\n",
        "\n",
        "# Generate a random dataset (you can replace this with your own dataset)\n",
        "# In this example, we generate a random dataset with 100 samples and 2 features.\n",
        "# The target is a simple linear function of the features.\n",
        "np.random.seed(0)\n",
        "X = np.random.rand(100, 2)\n",
        "y = 3 * X[:, 0] + 2 * X[:, 1] + 1 + 0.1 * np.random.randn(100)\n",
        "\n",
        "# Convert the dataset to PyTorch tensors\n",
        "X = torch.tensor(X, dtype=torch.float32)\n",
        "y = torch.tensor(y, dtype=torch.float32)\n",
        "\n",
        "# Define a simple neural network model\n",
        "class SimpleNN(nn.Module):\n",
        "    def __init__(self):\n",
        "        super(SimpleNN, self).__init__()\n",
        "        self.fc1 = nn.Linear(2, 64)  # Input: 2, Output: 64\n",
        "        self.fc2 = nn.Linear(64, 1)  # Input: 64, Output: 1\n",
        "\n",
        "    def forward(self, x):\n",
        "        x = torch.relu(self.fc1(x))\n",
        "        x = self.fc2(x)\n",
        "        return x\n",
        "\n",
        "# Instantiate the model\n",
        "model = SimpleNN()\n",
        "\n",
        "# Define a loss function (e.g., Mean Squared Error) and an optimizer (e.g., SGD)\n",
        "criterion = nn.MSELoss()\n",
        "optimizer = optim.SGD(model.parameters(), lr=0.01)\n",
        "\n",
        "# Training loop\n",
        "num_epochs = 1000\n",
        "for epoch in range(num_epochs):\n",
        "    # Forward pass\n",
        "    outputs = model(X)\n",
        "    loss = criterion(outputs, y)\n",
        "\n",
        "    # Backward pass and optimization\n",
        "    optimizer.zero_grad()\n",
        "    loss.backward()\n",
        "    optimizer.step()\n",
        "\n",
        "    if (epoch + 1) % 100 == 0:\n",
        "        print(f'Epoch [{epoch + 1}/{num_epochs}], Loss: {loss.item():.4f}')\n",
        "\n",
        "# Save the trained model (optional)\n",
        "torch.save(model.state_dict(), 'simple_nn_model.pth')\n",
        "\n",
        "# Evaluate the trained model (you can add evaluation code here)\n"
      ]
    }
  ]
}