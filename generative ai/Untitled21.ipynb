{
  "cells": [
    {
      "cell_type": "code",
      "execution_count": 4,
      "metadata": {
        "colab": {
          "base_uri": "https://localhost:8080/"
        },
        "id": "BXVYZ7hdHlKs",
        "outputId": "9f1c6d77-474e-4bbd-ede4-0ddd4afad545"
      },
      "outputs": [
        {
          "name": "stdout",
          "output_type": "stream",
          "text": [
            "Generated Comment:\n",
            "\n",
            "This code will print out \"Hello, 0!\", \"Hello, 1!\", \"Hello, 2!\", \"Hello, 3!\" and \"Hello, 4!\" to the console.\n"
          ]
        }
      ],
      "source": [
        "import openai\n",
        "\n",
        "# Set your OpenAI API key\n",
        "api_key = 'API_KEY'\n",
        "\n",
        "# Function to generate a comment for a code snippet\n",
        "def generate_code_comment(code_snippet):\n",
        "    # Define a prompt with the code snippet\n",
        "    prompt = f\"Please generate a comment for the following code:\\n\\n{code_snippet}\\n\\nComment:\"\n",
        "\n",
        "    # Use the OpenAI GPT-3.5 model to generate a comment\n",
        "    response = openai.Completion.create(\n",
        "        engine=\"text-davinci-003\",  # You can adjust the engine as needed\n",
        "        prompt=prompt,\n",
        "        max_tokens=50,  # Adjust the token limit based on your needs\n",
        "        api_key=api_key\n",
        "    )\n",
        "\n",
        "    # Extract and return the generated comment from the response\n",
        "    comment = response.choices[0].text\n",
        "    return comment\n",
        "\n",
        "# Example code snippet\n",
        "code_snippet = \"\"\"\n",
        "for i in range(5):\n",
        "    print(f\"Hello, {i}!\")\n",
        "\"\"\"\n",
        "\n",
        "# Generate a comment for the code snippet\n",
        "generated_comment = generate_code_comment(code_snippet)\n",
        "\n",
        "# Print the generated comment\n",
        "print(\"Generated Comment:\")\n",
        "print(generated_comment)\n"
      ]
    },
    {
      "cell_type": "code",
      "execution_count": 3,
      "metadata": {
        "colab": {
          "base_uri": "https://localhost:8080/"
        },
        "id": "8ofoy6zLH-TA",
        "outputId": "7c2ceae4-997f-4843-f234-a4ea8842c5e4"
      },
      "outputs": [
        {
          "name": "stdout",
          "output_type": "stream",
          "text": [
            "Collecting openai\n",
            "  Downloading openai-0.27.9-py3-none-any.whl (75 kB)\n",
            "\u001b[?25l     \u001b[90m━━━━━━━━━━━━━━━━━━━━━━━━━━━━━━━━━━━━━━━━\u001b[0m \u001b[32m0.0/75.5 kB\u001b[0m \u001b[31m?\u001b[0m eta \u001b[36m-:--:--\u001b[0m\r\u001b[2K     \u001b[90m━━━━━━━━━━━━━━━━━━━━━━━━━━━━━━━━━━━━━━━━\u001b[0m \u001b[32m75.5/75.5 kB\u001b[0m \u001b[31m2.0 MB/s\u001b[0m eta \u001b[36m0:00:00\u001b[0m\n",
            "\u001b[?25hRequirement already satisfied: requests>=2.20 in /usr/local/lib/python3.10/dist-packages (from openai) (2.31.0)\n",
            "Requirement already satisfied: tqdm in /usr/local/lib/python3.10/dist-packages (from openai) (4.66.1)\n",
            "Requirement already satisfied: aiohttp in /usr/local/lib/python3.10/dist-packages (from openai) (3.8.5)\n",
            "Requirement already satisfied: charset-normalizer<4,>=2 in /usr/local/lib/python3.10/dist-packages (from requests>=2.20->openai) (3.2.0)\n",
            "Requirement already satisfied: idna<4,>=2.5 in /usr/local/lib/python3.10/dist-packages (from requests>=2.20->openai) (3.4)\n",
            "Requirement already satisfied: urllib3<3,>=1.21.1 in /usr/local/lib/python3.10/dist-packages (from requests>=2.20->openai) (2.0.4)\n",
            "Requirement already satisfied: certifi>=2017.4.17 in /usr/local/lib/python3.10/dist-packages (from requests>=2.20->openai) (2023.7.22)\n",
            "Requirement already satisfied: attrs>=17.3.0 in /usr/local/lib/python3.10/dist-packages (from aiohttp->openai) (23.1.0)\n",
            "Requirement already satisfied: multidict<7.0,>=4.5 in /usr/local/lib/python3.10/dist-packages (from aiohttp->openai) (6.0.4)\n",
            "Requirement already satisfied: async-timeout<5.0,>=4.0.0a3 in /usr/local/lib/python3.10/dist-packages (from aiohttp->openai) (4.0.3)\n",
            "Requirement already satisfied: yarl<2.0,>=1.0 in /usr/local/lib/python3.10/dist-packages (from aiohttp->openai) (1.9.2)\n",
            "Requirement already satisfied: frozenlist>=1.1.1 in /usr/local/lib/python3.10/dist-packages (from aiohttp->openai) (1.4.0)\n",
            "Requirement already satisfied: aiosignal>=1.1.2 in /usr/local/lib/python3.10/dist-packages (from aiohttp->openai) (1.3.1)\n",
            "Installing collected packages: openai\n",
            "Successfully installed openai-0.27.9\n"
          ]
        }
      ],
      "source": [
        "pip install openai\n"
      ]
    }
  ],
  "metadata": {
    "colab": {
      "provenance": []
    },
    "kernelspec": {
      "display_name": "Python 3",
      "name": "python3"
    },
    "language_info": {
      "name": "python"
    }
  },
  "nbformat": 4,
  "nbformat_minor": 0
}
