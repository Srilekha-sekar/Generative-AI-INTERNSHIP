{
  "cells": [
    {
      "cell_type": "code",
      "execution_count": 14,
      "metadata": {
        "id": "BXVYZ7hdHlKs"
      },
      "outputs": [],
      "source": [
        "import os\n",
        "import openai\n",
        "\n",
        "openai.api_key = (\"API KEY\")\n",
        "\n",
        "response = openai.ChatCompletion.create(\n",
        "  model=\"gpt-3.5-turbo\",\n",
        "  messages=[\n",
        "    {\n",
        "      \"role\": \"system\",\n",
        "      \"content\": \"You are ChatGPT, my trusted travel assistant. I'm planning a vacation in India and I'm looking for a relaxing travel destination that won't break the bank. Can you suggest a beautiful and budget-friendly place to visit within India? Additionally, I'd love to get some travel tips for my trip. What are the must-visit places, activities, and any local experiences I should consider during my trip? Please provide me with some helpful information to make my vacation memorable and stress-free.\\n\\n\"\n",
        "    },\n",
        "    {\n",
        "      \"role\": \"user\",\n",
        "      \"content\": \"You are ChatGPT, my trusted travel assistant. I'm planning a vacation in India and I'm looking for a relaxing travel destination that won't break the bank. Can you suggest a beautiful and budget-friendly place to visit within India? Additionally, I'd love to get some travel tips for my trip. What are the must-visit places, activities, and any local experiences I should consider during my trip? Please provide me with some helpful information to make my vacation memorable and stress-free.\\n\"\n",
        "    },\n",
        "    {\n",
        "      \"role\": \"assistant\",\n",
        "      \"content\": \"India offers a plethora of budget-friendly and picturesque destinations for travelers seeking a relaxing getaway. One such destination that ticks all the boxes is Goa. Famous for its stunning beaches, vibrant culture, and affordable options, Goa is an ideal choice for a memorable and budget-friendly vacation.\\n\\nHere are some tips and information to help you plan your trip to Goa:\\n\\n1. Best Time to Visit: Goa is a year-round destination, but the ideal time to visit is during the winter months (November to February) when the weather is pleasant and the beach experience is at its best.\\n\\n2. Beaches: Goa is known for its pristine beaches, each offering a unique experience. Some must-visit beaches include Calangute, Baga, Anjuna, and Morjim. These beaches offer beach shacks, water sports activities, and a lively atmosphere. For a quieter and more tranquil experience, head to Palolem or Agonda Beach in South Goa.\\n\\n3. Local Food: Goa is a food lover's paradise. Don't miss trying authentic Goan cuisine, which includes dishes like Goan fish curry, pork vindaloo, crab xacuti, and Bebinca (a traditional Goan dessert). Visit local eateries or beach shacks to experience the local flavors.\\n\\n\"\n",
        "    }\n",
        "  ],\n",
        "  temperature=1,\n",
        "  max_tokens=256,\n",
        "  top_p=1,\n",
        "  frequency_penalty=0,\n",
        "  presence_penalty=0\n",
        ")\n"
      ]
    }
  ],
  "metadata": {
    "colab": {
      "provenance": []
    },
    "kernelspec": {
      "display_name": "Python 3",
      "name": "python3"
    },
    "language_info": {
      "name": "python"
    }
  },
  "nbformat": 4,
  "nbformat_minor": 0
}
