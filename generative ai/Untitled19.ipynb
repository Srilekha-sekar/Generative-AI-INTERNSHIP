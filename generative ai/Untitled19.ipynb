{
  "cells": [
    {
      "cell_type": "code",
      "execution_count": 4,
      "metadata": {
        "colab": {
          "base_uri": "https://localhost:8080/"
        },
        "id": "b9MnuYFXEBav",
        "outputId": "03783446-c4f7-4e28-84bd-34684fe37036"
      },
      "outputs": [
        {
          "name": "stdout",
          "output_type": "stream",
          "text": [
            "\n",
            "\n",
            "Appetizers\n",
            "\n",
            "Oriental Spring Rolls – Hand-crafted rolls filled with a savory blend of vegetables and herbs served with a sweet and sour dipping sauce – $5.95 \n",
            "\n",
            "Crispy Eggplant Fries – Fresh eggplant slices coated in a savory Italian breading, served with a zesty garlic aioli – $4.95 \n",
            "\n",
            "Salads\n",
            "\n",
            "Grilled Chicken Caesar Salad – Fresh romaine lettuce, grilled chicken, croutons, and Parmesan cheese tossed with a light caesar dressing – $8.95 \n",
            "\n",
            "Avocado Salad – Mixed greens tossed with crunchy bell peppers, tomatoes, fresh avocados, and a lime-cilantro v\n"
          ]
        }
      ],
      "source": [
        "import openai\n",
        "\n",
        "# Set your OpenAI API key\n",
        "api_key = 'API_KEY'\n",
        "\n",
        "\n",
        "# Define a function to generate a restaurant menu\n",
        "def generate_menu():\n",
        "    # Prompt for generating the menu\n",
        "    prompt = \"Generate a diverse and appealing restaurant menu with a variety of dishes, each with a name, description, and price.\"\n",
        "\n",
        "    # Use the OpenAI GPT-3.5 model to generate the menu\n",
        "    response = openai.Completion.create(\n",
        "        engine=\"text-davinci-003\",  # You can adjust the engine as needed\n",
        "        prompt=prompt,\n",
        "        max_tokens=150,  # Adjust the token limit based on your requirements\n",
        "        api_key=api_key\n",
        "    )\n",
        "\n",
        "    # Extract and return the generated menu from the response\n",
        "    menu = response.choices[0].text\n",
        "    return menu\n",
        "\n",
        "if __name__ == '__main__':\n",
        "    # Generate the restaurant menu\n",
        "    menu_text = generate_menu()\n",
        "\n",
        "    # Print the generated menu\n",
        "    print(menu_text)\n"
      ]
    },
    {
      "cell_type": "code",
      "execution_count": 2,
      "metadata": {
        "colab": {
          "base_uri": "https://localhost:8080/"
        },
        "id": "ANr46t6sERT4",
        "outputId": "5267ec28-7d43-4b2e-a571-9761f793936b"
      },
      "outputs": [
        {
          "name": "stdout",
          "output_type": "stream",
          "text": [
            "Collecting openai\n",
            "  Downloading openai-0.27.9-py3-none-any.whl (75 kB)\n",
            "\u001b[2K     \u001b[90m━━━━━━━━━━━━━━━━━━━━━━━━━━━━━━━━━━━━━━━━\u001b[0m \u001b[32m75.5/75.5 kB\u001b[0m \u001b[31m1.8 MB/s\u001b[0m eta \u001b[36m0:00:00\u001b[0m\n",
            "\u001b[?25hRequirement already satisfied: requests>=2.20 in /usr/local/lib/python3.10/dist-packages (from openai) (2.31.0)\n",
            "Requirement already satisfied: tqdm in /usr/local/lib/python3.10/dist-packages (from openai) (4.66.1)\n",
            "Requirement already satisfied: aiohttp in /usr/local/lib/python3.10/dist-packages (from openai) (3.8.5)\n",
            "Requirement already satisfied: charset-normalizer<4,>=2 in /usr/local/lib/python3.10/dist-packages (from requests>=2.20->openai) (3.2.0)\n",
            "Requirement already satisfied: idna<4,>=2.5 in /usr/local/lib/python3.10/dist-packages (from requests>=2.20->openai) (3.4)\n",
            "Requirement already satisfied: urllib3<3,>=1.21.1 in /usr/local/lib/python3.10/dist-packages (from requests>=2.20->openai) (2.0.4)\n",
            "Requirement already satisfied: certifi>=2017.4.17 in /usr/local/lib/python3.10/dist-packages (from requests>=2.20->openai) (2023.7.22)\n",
            "Requirement already satisfied: attrs>=17.3.0 in /usr/local/lib/python3.10/dist-packages (from aiohttp->openai) (23.1.0)\n",
            "Requirement already satisfied: multidict<7.0,>=4.5 in /usr/local/lib/python3.10/dist-packages (from aiohttp->openai) (6.0.4)\n",
            "Requirement already satisfied: async-timeout<5.0,>=4.0.0a3 in /usr/local/lib/python3.10/dist-packages (from aiohttp->openai) (4.0.3)\n",
            "Requirement already satisfied: yarl<2.0,>=1.0 in /usr/local/lib/python3.10/dist-packages (from aiohttp->openai) (1.9.2)\n",
            "Requirement already satisfied: frozenlist>=1.1.1 in /usr/local/lib/python3.10/dist-packages (from aiohttp->openai) (1.4.0)\n",
            "Requirement already satisfied: aiosignal>=1.1.2 in /usr/local/lib/python3.10/dist-packages (from aiohttp->openai) (1.3.1)\n",
            "Installing collected packages: openai\n",
            "Successfully installed openai-0.27.9\n"
          ]
        }
      ],
      "source": [
        "pip install openai"
      ]
    }
  ],
  "metadata": {
    "colab": {
      "provenance": []
    },
    "kernelspec": {
      "display_name": "Python 3",
      "name": "python3"
    },
    "language_info": {
      "name": "python"
    }
  },
  "nbformat": 4,
  "nbformat_minor": 0
}
